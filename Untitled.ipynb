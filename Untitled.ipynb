{
 "cells": [
  {
   "cell_type": "code",
   "execution_count": 1,
   "id": "dc76d942-73ee-495a-96b1-f4ac4b44c179",
   "metadata": {},
   "outputs": [],
   "source": [
    "llm_config = {\"model\": \"gpt-3.5-turbo\"}"
   ]
  },
  {
   "cell_type": "code",
   "execution_count": 2,
   "id": "6beb7153-1929-44e2-b72b-36e9898c1b15",
   "metadata": {},
   "outputs": [],
   "source": [
    "from autogen import AssistantAgent, UserProxyAgent, GroupChat, GroupChatManager\n",
    "import os\n",
    "# Create workspace if it doesn't exist\n",
    "os.makedirs(\"./autogen_workspace\", exist_ok=True)"
   ]
  },
  {
   "cell_type": "code",
   "execution_count": 6,
   "id": "b8d4c90e-df87-448e-a1bd-71a6862a72b3",
   "metadata": {},
   "outputs": [],
   "source": [
    "# Define agents with roles\n",
    "def build_agents():\n",
    "    architect = AssistantAgent(\n",
    "        name=\"ArchitectAgent\",\n",
    "        system_message=\"You are an expert software architect. Your job is to design the Task Priority System based on deadlines, dependencies, and user preferences.\"\n",
    "    )\n",
    "\n",
    "    engineer = AssistantAgent(\n",
    "        name=\"EngineerAgent\",\n",
    "        system_message=\"\"\"\n",
    "You are a senior software engineer.\n",
    "Implement the Task Priority System in Python.\n",
    "\n",
    "1. Define a Task class with:\n",
    "    - id\n",
    "    - title\n",
    "    - deadline (ISO 8601)\n",
    "    - dependencies (list of ids)\n",
    "    - user_priority (0-5)\n",
    "\n",
    "2. Write a function that:\n",
    "    - Computes a priority score\n",
    "    - Sorts tasks descending by score\n",
    "    - Prints or returns results\n",
    "\n",
    "3. Output your implementation as a script saved as `task_priority.py` in the workspace.\n",
    "\n",
    "Wrap all your code in:\n",
    "```python3\n",
    "# task_priority.py\n",
    "<your code here>\n",
    "```\n",
    "\"\"\"\n",
    "    )\n",
    "\n",
    "    tester = AssistantAgent(\n",
    "        name=\"TesterAgent\",\n",
    "        system_message=\"You are a QA tester. Write at least 3 test cases, including edge cases, for the Task Priority System.\"\n",
    "    )\n",
    "\n",
    "    writer = AssistantAgent(\n",
    "        name=\"WriterAgent\",\n",
    "        system_message=\"You are a technical writer. Write concise user and deployment documentation for the Task Priority System.\"\n",
    "    )\n",
    "\n",
    "    coordinator = UserProxyAgent(\n",
    "        name=\"CoordinatorAgent\",\n",
    "        code_execution_config={\"work_dir\": \"./autogen_workspace\", \"use_docker\": False}\n",
    "    )\n",
    "\n",
    "    return coordinator, [architect, engineer, tester, writer]\n"
   ]
  },
  {
   "cell_type": "code",
   "execution_count": 7,
   "id": "e682df63-b3eb-451d-9b69-68c98ff33c35",
   "metadata": {},
   "outputs": [],
   "source": [
    "def start_chat():\n",
    "    coordinator, agents = build_agents()\n",
    "    groupchat = GroupChat(\n",
    "        agents=[coordinator] + agents,\n",
    "        messages=[],\n",
    "        max_round=25\n",
    "    )\n",
    "    manager = GroupChatManager(groupchat=groupchat,llm_config=llm_config)\n",
    "\n",
    "    coordinator.initiate_chat(\n",
    "        manager,\n",
    "        message=\"\"\"\n",
    "We need to build a Task Priority System. It should automatically assign a task priority based on:\n",
    "1. Task deadlines (closer deadlines = higher priority),\n",
    "2. Task dependencies (a task blocking others gets higher priority),\n",
    "3. User preferences (some users might mark tasks as important).\n",
    "\n",
    "Your tasks:\n",
    "- Architect: Create requirements and system design.\n",
    "- Engineer: Implement the full Python code.\n",
    "- Tester: Write at least 3 test cases.\n",
    "- Writer: Create user and deployment documentation.\n",
    "        \"\"\"\n",
    "    )"
   ]
  },
  {
   "cell_type": "code",
   "execution_count": 8,
   "id": "e9e760e3-ba42-4bcd-9486-342752b224f0",
   "metadata": {},
   "outputs": [
    {
     "name": "stdout",
     "output_type": "stream",
     "text": [
      "\u001b[33mCoordinatorAgent\u001b[0m (to chat_manager):\n",
      "\n",
      "\n",
      "We need to build a Task Priority System. It should automatically assign a task priority based on:\n",
      "1. Task deadlines (closer deadlines = higher priority),\n",
      "2. Task dependencies (a task blocking others gets higher priority),\n",
      "3. User preferences (some users might mark tasks as important).\n",
      "\n",
      "Your tasks:\n",
      "- Architect: Create requirements and system design.\n",
      "- Engineer: Implement the full Python code.\n",
      "- Tester: Write at least 3 test cases.\n",
      "- Writer: Create user and deployment documentation.\n",
      "        \n",
      "\n",
      "--------------------------------------------------------------------------------\n",
      "\u001b[32m\n",
      "Next speaker: ArchitectAgent\n",
      "\u001b[0m\n",
      "\u001b[33mArchitectAgent\u001b[0m (to chat_manager):\n",
      "\n",
      "\n",
      "\n",
      "--------------------------------------------------------------------------------\n",
      "\u001b[32m\n",
      "Next speaker: EngineerAgent\n",
      "\u001b[0m\n",
      "\u001b[33mEngineerAgent\u001b[0m (to chat_manager):\n",
      "\n",
      "\n",
      "\n",
      "--------------------------------------------------------------------------------\n",
      "\u001b[32m\n",
      "Next speaker: TesterAgent\n",
      "\u001b[0m\n",
      "\u001b[33mTesterAgent\u001b[0m (to chat_manager):\n",
      "\n",
      "\n",
      "\n",
      "--------------------------------------------------------------------------------\n",
      "\u001b[32m\n",
      "Next speaker: WriterAgent\n",
      "\u001b[0m\n",
      "\u001b[33mWriterAgent\u001b[0m (to chat_manager):\n",
      "\n",
      "\n",
      "\n",
      "--------------------------------------------------------------------------------\n",
      "\u001b[32m\n",
      "Next speaker: CoordinatorAgent\n",
      "\u001b[0m\n"
     ]
    },
    {
     "name": "stdin",
     "output_type": "stream",
     "text": [
      "Replying as CoordinatorAgent. Provide feedback to chat_manager. Press enter to skip and use auto-reply, or type 'exit' to end the conversation:  \n"
     ]
    },
    {
     "name": "stdout",
     "output_type": "stream",
     "text": [
      "\u001b[31m\n",
      ">>>>>>>> NO HUMAN INPUT RECEIVED.\u001b[0m\n",
      "\u001b[31m\n",
      ">>>>>>>> USING AUTO REPLY...\u001b[0m\n",
      "\u001b[33mCoordinatorAgent\u001b[0m (to chat_manager):\n",
      "\n",
      "\n",
      "\n",
      "--------------------------------------------------------------------------------\n",
      "\u001b[32m\n",
      "Next speaker: ArchitectAgent\n",
      "\u001b[0m\n",
      "\u001b[33mArchitectAgent\u001b[0m (to chat_manager):\n",
      "\n",
      "\n",
      "\n",
      "--------------------------------------------------------------------------------\n",
      "\u001b[32m\n",
      "Next speaker: EngineerAgent\n",
      "\u001b[0m\n",
      "\u001b[33mEngineerAgent\u001b[0m (to chat_manager):\n",
      "\n",
      "\n",
      "\n",
      "--------------------------------------------------------------------------------\n",
      "\u001b[32m\n",
      "Next speaker: TesterAgent\n",
      "\u001b[0m\n",
      "\u001b[33mTesterAgent\u001b[0m (to chat_manager):\n",
      "\n",
      "\n",
      "\n",
      "--------------------------------------------------------------------------------\n",
      "\u001b[32m\n",
      "Next speaker: CoordinatorAgent\n",
      "\u001b[0m\n"
     ]
    },
    {
     "name": "stdin",
     "output_type": "stream",
     "text": [
      "Replying as CoordinatorAgent. Provide feedback to chat_manager. Press enter to skip and use auto-reply, or type 'exit' to end the conversation:  exit\n"
     ]
    },
    {
     "name": "stdout",
     "output_type": "stream",
     "text": [
      "\u001b[31m\n",
      ">>>>>>>> TERMINATING RUN (3e13eaf5-58a7-47e1-b9fd-48a5bfc69eb4): User requested to end the conversation\u001b[0m\n",
      "\u001b[31m\n",
      ">>>>>>>> TERMINATING RUN (7bde702a-2c62-478d-bca0-76c731a32d3c): No reply generated\u001b[0m\n"
     ]
    }
   ],
   "source": [
    "if __name__ == '__main__':\n",
    "    start_chat()"
   ]
  },
  {
   "cell_type": "code",
   "execution_count": 9,
   "id": "3bbf4a5c-2ef2-449d-98f2-169118ce5bba",
   "metadata": {},
   "outputs": [
    {
     "ename": "NameError",
     "evalue": "name 'EngineerAgent' is not defined",
     "output_type": "error",
     "traceback": [
      "\u001b[0;31m---------------------------------------------------------------------------\u001b[0m",
      "\u001b[0;31mNameError\u001b[0m                                 Traceback (most recent call last)",
      "Cell \u001b[0;32mIn[9], line 1\u001b[0m\n\u001b[0;32m----> 1\u001b[0m \u001b[43mEngineerAgent\u001b[49m\u001b[38;5;241m.\u001b[39msystem_message\n",
      "\u001b[0;31mNameError\u001b[0m: name 'EngineerAgent' is not defined"
     ]
    }
   ],
   "source": [
    "EngineerAgent.system_message"
   ]
  },
  {
   "cell_type": "code",
   "execution_count": null,
   "id": "d0449f4b-c29a-4b23-9983-31228a2e326b",
   "metadata": {},
   "outputs": [],
   "source": []
  }
 ],
 "metadata": {
  "kernelspec": {
   "display_name": "Python 3 (ipykernel)",
   "language": "python",
   "name": "python3"
  },
  "language_info": {
   "codemirror_mode": {
    "name": "ipython",
    "version": 3
   },
   "file_extension": ".py",
   "mimetype": "text/x-python",
   "name": "python",
   "nbconvert_exporter": "python",
   "pygments_lexer": "ipython3",
   "version": "3.10.12"
  }
 },
 "nbformat": 4,
 "nbformat_minor": 5
}
